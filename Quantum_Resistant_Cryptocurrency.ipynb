{
  "nbformat": 4,
  "nbformat_minor": 0,
  "metadata": {
    "colab": {
      "provenance": []
    },
    "kernelspec": {
      "name": "python3",
      "display_name": "Python 3"
    },
    "language_info": {
      "name": "python"
    }
  },
  "cells": [
    {
      "cell_type": "markdown",
      "source": [
        "Cryptographic Algorithms:\n"
      ],
      "metadata": {
        "id": "KDIyazgfOr7e"
      }
    },
    {
      "cell_type": "code",
      "execution_count": null,
      "metadata": {
        "id": "I0L90j4-OX86"
      },
      "outputs": [],
      "source": [
        "from cryptography.fernet import Fernet\n",
        "\n",
        "# Generate a random symmetric key\n",
        "key = Fernet.generate_key()\n",
        "\n",
        "# Create a Fernet cipher using the key\n",
        "cipher_suite = Fernet(key)\n",
        "\n",
        "# Data to be encrypted\n",
        "plaintext = b\"Hello, World!\"\n",
        "\n",
        "# Encrypt the data\n",
        "ciphertext = cipher_suite.encrypt(plaintext)\n",
        "\n",
        "# Decrypt the data\n",
        "decrypted_text = cipher_suite.decrypt(ciphertext)\n",
        "\n",
        "print(\"Original text:\", plaintext)\n",
        "print(\"Encrypted text:\", ciphertext)\n",
        "print(\"Decrypted text:\", decrypted_text)\n"
      ]
    },
    {
      "cell_type": "markdown",
      "source": [
        "Blockchain implementation"
      ],
      "metadata": {
        "id": "Vs60PnkgPMk5"
      }
    },
    {
      "cell_type": "code",
      "source": [
        "import hashlib\n",
        "import time\n",
        "\n",
        "class Block:\n",
        "    def __init__(self, index, previous_hash, timestamp, data, hash):\n",
        "        self.index = index\n",
        "        self.previous_hash = previous_hash\n",
        "        self.timestamp = timestamp\n",
        "        self.data = data\n",
        "        self.hash = hash\n",
        "\n",
        "def calculate_hash(index, previous_hash, timestamp, data):\n",
        "    value = str(index) + previous_hash + str(timestamp) + data\n",
        "    return hashlib.sha256(value.encode()).hexdigest()\n",
        "\n",
        "def create_genesis_block():\n",
        "    return Block(0, \"0\", int(time.time()), \"Genesis Block\", calculate_hash(0, \"0\", int(time.time()), \"Genesis Block\"))\n",
        "\n",
        "def create_new_block(previous_block, data):\n",
        "    index = previous_block.index + 1\n",
        "    timestamp = int(time.time())\n",
        "    hash = calculate_hash(index, previous_block.hash, timestamp, data)\n",
        "    return Block(index, previous_block.hash, timestamp, data, hash)\n",
        "\n",
        "# Create the blockchain and add the genesis block\n",
        "blockchain = [create_genesis_block()]\n",
        "previous_block = blockchain[0]\n",
        "\n",
        "# Add blocks to the blockchain\n",
        "num_blocks_to_add = 10\n",
        "\n",
        "for _ in range(num_blocks_to_add):\n",
        "    data = f\"This is block #{previous_block.index + 1}\"\n",
        "    new_block = create_new_block(previous_block, data)\n",
        "    blockchain.append(new_block)\n",
        "    previous_block = new_block\n",
        "    print(f\"Block #{new_block.index} has been added to the blockchain!\")\n",
        "    print(f\"Hash: {new_block.hash}\\n\")\n"
      ],
      "metadata": {
        "id": "JI3QTbHjPPEq"
      },
      "execution_count": null,
      "outputs": []
    }
  ]
}